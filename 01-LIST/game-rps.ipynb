#Rock wins against scissors.
#Paper wins against rock.
#Scissors win against paper.

#jika saya memilih 0 dan komputer memilih 1, maka komputer menang
#jika saya memilih 0 dan komputer memilih 2, maka komputer kalah
#jika saya memilih 1 dan komputer memilih 0, maka komputer kalah
#jika saya memilih 1 dan komputer memilih 2, maka komputer menang
#jika saya memilih 2 dan komputer memilih 0, maka komputer menang
#jika saya memilih 2 dan komputer memilih 1, maka komputer kalah

##ASCI di bawah di ambil dari "https://gist.github.com/wynand1004/b5c521ea8392e9c6bfe101b025c39abe"
rock = """ 
---'   ____)
      (_____)
      (_____)
      (____)
---.__(___)
"""

paper = """
---'   ____)____
          ______)
          _______)
         _______)
---.__________)
"""

scissors = """
---'   ____)____
          ______)
       __________)
      (____)
---.__(___)
"""


import random
import sys
print("Permainan Rock Paper Scissors (RPS)")
gambar_permainan = [rock, paper, scissors]

pilihan = input("Apa yang anda Pilih, 0 untuk Rock, 1 untuk Paper dan 2 untuk Scissors\n")
if not pilihan.isdigit():
    print("Input must be a number, not alphabetic.")
    sys.exit()

pilihan_user = int(pilihan)
if pilihan_user not in [0, 1, 2]:
    print("Anda Salah memasukan angka, anda Kalah")
    sys.exit()

print("Anda Memilih :")
print(gambar_permainan[pilihan_user])
pilihan_komputer = random.randint(0, 2)
print("komputer Memilih :")
print(gambar_permainan[pilihan_komputer])

if pilihan_user == pilihan_komputer:
    print("Hasilnya draw")
elif pilihan_user ==0 and pilihan_komputer ==1:
    print("Anda kalah")
elif pilihan_user ==0 and pilihan_komputer ==2:
    print("Anda Menang")
elif pilihan_user == 1 and pilihan_komputer == 0:
    print("Anda Menang")
elif pilihan_user == 1 and pilihan_komputer == 2:
    print("Ada Kalah")
elif pilihan_user == 2 and pilihan_komputer == 0:
    print("Anda Kalah")
else:
    print("Anda Menang")

