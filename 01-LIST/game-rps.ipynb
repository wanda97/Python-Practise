{
 "cells": [
  {
   "cell_type": "markdown",
   "metadata": {},
   "source": [
    "# Rock Paper Scissors Game\n",
    "\n",
    "## Game Rules\n",
    "- Rock wins against scissors.\n",
    "- Paper wins against rock.\n",
    "- Scissors win against paper.\n",
    "\n",
    "## Winning Conditions\n",
    "- If user choose 0 and computer chooses 1, computer wins.\n",
    "- If user choose 0 and computer chooses 2, user win.\n",
    "- If user choose 1 and computer chooses 0, user win.\n",
    "- If user choose 1 and computer chooses 2, computer wins.\n",
    "- If user choose 2 and computer chooses 0, computer wins.\n",
    "- If user choose 2 and computer chooses 1, user win."
   ]
  },
  {
   "cell_type": "code",
   "execution_count": null,
   "metadata": {},
   "outputs": [],
   "source": [
    "# ASCII art sourced from https://gist.github.com/wynand1004/b5c521ea8392e9c6bfe101b025c39abe\n",
    "rock = \"\"\" \n",
    "---'   ____)\n",
    "      (_____)\n",
    "      (_____)\n",
    "      (____)\n",
    "---.__(___)\n",
    "\"\"\"\n",
    "\n",
    "paper = \"\"\"\n",
    "---'   ____)____\n",
    "          ______)\n",
    "          _______)\n",
    "         _______)\n",
    "---.__________)\n",
    "\"\"\"\n",
    "\n",
    "scissors = \"\"\"\n",
    "---'   ____)____\n",
    "          ______)\n",
    "       __________)\n",
    "      (____)\n",
    "---.__(___)\n",
    "\"\"\""
   ]
  },
  {
   "cell_type": "code",
   "execution_count": null,
   "metadata": {},
   "outputs": [],
   "source": [
    "import random\n",
    "import sys\n",
    "\n",
    "print(\"Permainan Rock Paper Scissors (RPS)\")\n",
    "gambar_permainan = [rock, paper, scissors]\n",
    "\n",
    "pilihan = input(\"Apa yang anda Pilih, 0 untuk Rock, 1 untuk Paper dan 2 untuk Scissors\\n\")\n",
    "if not pilihan.isdigit():\n",
    "    print(\"Input must be a number, not alphabetic.\")\n",
    "    sys.exit()\n",
    "\n",
    "pilihan_user = int(pilihan)\n",
    "if pilihan_user not in [0, 1, 2]:\n",
    "    print(\"Anda Salah memasukan angka, anda Kalah\")\n",
    "    sys.exit()\n",
    "\n",
    "print(\"Anda Memilih :\")\n",
    "print(gambar_permainan[pilihan_user])\n",
    "pilihan_komputer = random.randint(0, 2)\n",
    "print(\"komputer Memilih :\")\n",
    "print(gambar_permainan[pilihan_komputer])\n",
    "\n",
    "if pilihan_user == pilihan_komputer:\n",
    "    print(\"Hasilnya draw\")\n",
    "elif pilihan_user == 0 and pilihan_komputer == 1:\n",
    "    print(\"Anda kalah\")\n",
    "elif pilihan_user == 0 and pilihan_komputer == 2:\n",
    "    print(\"Anda Menang\")\n",
    "elif pilihan_user == 1 and pilihan_komputer == 0:\n",
    "    print(\"Anda Menang\")\n",
    "elif pilihan_user == 1 and pilihan_komputer == 2:\n",
    "    print(\"Anda Kalah\")\n",
    "elif pilihan_user == 2 and pilihan_komputer == 0:\n",
    "    print(\"Anda Kalah\")\n",
    "else:\n",
    "    print(\"Anda Menang\")"
   ]
  }
 ],
 "metadata": {
  "kernelspec": {
   "display_name": "Python 3",
   "language": "python",
   "name": "python3"
  },
  "language_info": {
   "codemirror_mode": {
    "name": "ipython",
    "version": 3
   },
   "file_extension": ".py",
   "mimetype": "text/x-python",
   "name": "python",
   "nbconvert_exporter": "python",
   "pygments_lexer": "ipython3",
   "version": "3.8.10"
  }
 },
 "nbformat": 4,
 "nbformat_minor": 4
}
