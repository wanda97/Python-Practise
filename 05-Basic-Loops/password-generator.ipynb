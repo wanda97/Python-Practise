{
 "cells": [
  {
   "cell_type": "markdown",
   "metadata": {},
   "source": [
    "# 🔐 Password Generator\n",
    "Script ini menghasilkan password acak berdasarkan jumlah huruf, angka, dan simbol yang diinginkan pengguna."
   ]
  },
  {
   "cell_type": "code",
   "execution_count": null,
   "metadata": {},
   "outputs": [],
   "source": [
    "# Import modul random\n",
    "import random"
   ]
  },
  {
   "cell_type": "code",
   "execution_count": null,
   "metadata": {},
   "outputs": [],
   "source": [
    "# Daftar huruf (a-z, A-Z)\n",
    "hurup = list(\"abcdefghijklmnopqrstuvwxyzABCDEFGHIJKLMNOPQRSTUVWXYZ\")\n",
    "\n",
    "# Daftar angka (0-9)\n",
    "angka = list(\"0123456789\")\n",
    "\n",
    "# Daftar simbol umum untuk password\n",
    "simbol = list(\"!@#$%^&*()-_=+[]{}\\\\|;:'\\\"<>,./?`~\")"
   ]
  },
  {
   "cell_type": "code",
   "execution_count": null,
   "metadata": {},
   "outputs": [],
   "source": [
    "# Input dari pengguna\n",
    "nr_hurup = int(input(\"Berapa jumlah huruf yang anda inginkan?\\n\"))\n",
    "nr_angka = int(input(\"Berapa jumlah angka yang anda inginkan?\\n\"))\n",
    "nr_simbol = int(input(\"Berapa jumlah simbol yang anda inginkan?\\n\"))"
   ]
  },
  {
   "cell_type": "code",
   "execution_count": null,
   "metadata": {},
   "outputs": [],
   "source": [
    "# Membuat list password\n",
    "password_list = []\n",
    "\n",
    "for _ in range(nr_hurup):\n",
    "    password_list.append(random.choice(hurup))\n",
    "\n",
    "for _ in range(nr_angka):\n",
    "    password_list.append(random.choice(angka))\n",
    "\n",
    "for _ in range(nr_simbol):\n",
    "    password_list.append(random.choice(simbol))"
   ]
  },
  {
   "cell_type": "code",
   "execution_count": null,
   "metadata": {},
   "outputs": [],
   "source": [
    "# Acak urutan karakter\n",
    "random.shuffle(password_list)\n",
    "\n",
    "# Gabungkan list jadi string\n",
    "password = \"\".join(password_list)\n",
    "\n",
    "# Tampilkan hasil\n",
    "print(\"Password Anda:\", password)"
   ]
  }
 ],
 "metadata": {
  "kernelspec": {
   "display_name": "Python 3",
   "language": "python",
   "name": "python3"
  },
  "language_info": {
   "name": "python",
   "version": ""
  }
 },
 "nbformat": 4,
 "nbformat_minor": 2
}
